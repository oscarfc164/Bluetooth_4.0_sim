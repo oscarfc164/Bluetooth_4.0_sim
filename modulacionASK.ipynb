{
 "cells": [
  {
   "cell_type": "markdown",
   "metadata": {},
   "source": [
    "**PROYECTO 3**\n",
    "\n",
    "\n",
    "**AUTORES**: \n",
    "\n",
    "             Oscar Fallas B92861\n",
    "\n",
    "             Daniel Chacon B72018\n",
    "             \n",
    "             Alejandro Castillo B81787\n",
    "                                                                                            \n",
    "\n",
    "\n",
    "\n",
    "**MODULACIÓN ASK**\n",
    "\n",
    "Dada un secuencia de bits bcT almancenando cada bit en un arreglo, se procederá a realizar modulación ASK con M = 4"
   ]
  },
  {
   "cell_type": "code",
   "execution_count": 2,
   "metadata": {},
   "outputs": [
    {
     "name": "stdout",
     "output_type": "stream",
     "text": [
      "La secuencia de entrada es: [0 1 0 0 1 0 0]\n",
      "La secuencia modulada s(k): [-0.33333333 -0.33333333 -0.33333333 -0.33333333 -0.33333333 -0.33333333\n",
      " -0.33333333 -0.33333333 -0.33333333 -0.33333333 -1.         -1.\n",
      " -1.         -1.         -1.         -1.         -1.         -1.\n",
      " -1.         -1.          1.          1.          1.          1.\n",
      "  1.          1.          1.          1.          1.          1.\n",
      " -1.         -1.         -1.         -1.         -1.         -1.\n",
      " -1.         -1.         -1.         -1.        ]\n",
      "Cantidad de ceros agregados: 33\n"
     ]
    },
    {
     "data": {
      "image/png": "[encoded data removed]",
      "text/plain": [
       "<Figure size 432x288 with 1 Axes>"
      ]
     },
     "metadata": {
      "needs_background": "light"
     },
     "output_type": "display_data"
    }
   ],
   "source": [
    "import numpy as np\n",
    "import matplotlib.pyplot as plt\n",
    "\n",
    "M = 4\n",
    "\n",
    "def modulacionASK(bc, fc, Ts):\n",
    "    # Verificar que la longitud de la secuencia de bits bc(ℓ) sea múltiplo de log2(M)\n",
    "    b = int(np.log2(M))\n",
    "    if len(bc) % b != 0:\n",
    "        # Rellenar con ceros si no es múltiplo\n",
    "        bc = np.concatenate([bc, np.zeros(b - len(bc) % b)])\n",
    "\n",
    "    # Dividir la secuencia de bits en grupos de M\n",
    "    grupos = [bc[i:i+int(np.log2(M))] for i in range(0, len(bc), int(np.log2(M)))]\n",
    "\n",
    "    # Diccionario de asignación de símbolos de amplitud\n",
    "    simbolos = {\n",
    "        (0, 0): -1,\n",
    "        (0, 1): -1/3,\n",
    "        (1, 0): 1,\n",
    "        (1, 1): 1/3\n",
    "        }\n",
    "\n",
    "    # Secuencia de símbolos a(n)\n",
    "    an = [simbolos[tuple(grupo)] for grupo in grupos]\n",
    "\n",
    "    # Secuencia de muestras c(k)\n",
    "    Ns = int(Ts * fc)\n",
    "    t = np.arange(0, Ns)\n",
    "    c = np.cos(2 * np.pi * fc * t / Ns)\n",
    "\n",
    "    # Secuencia de señal modulada sn(k)\n",
    "    sn = np.kron(an, c)\n",
    "\n",
    "    return sn\n",
    "\n",
    "# Parámetros de la modulación\n",
    "bcT = np.array([0, 1, 0, 0, 1, 0, 0])  # Secuencia de bits\n",
    "fc = 10e3  # Frecuencia de la portadora (10 kHz)\n",
    "Ts = 1e-3  # Duración de la señal c(t) (1 ms)\n",
    "\n",
    "# Realizar la modulación ASK\n",
    "s_k = modulacionASK(bcT, fc, Ts)\n",
    "\n",
    "# Imprimir información sobre la modulación\n",
    "print(\"La secuencia de entrada es:\", bcT)\n",
    "print(\"La secuencia modulada s(k):\", s_k)\n",
    "print(\"Cantidad de ceros agregados:\", len(s_k) - len(bcT))\n",
    "\n",
    "# Graficar la señal modulada\n",
    "t = np.linspace(0, len(s_k) / fc, len(s_k))\n",
    "plt.plot(t, s_k)\n",
    "plt.xlabel('Tiempo (s)')\n",
    "plt.ylabel('Amplitud')\n",
    "plt.title('Señal Modulada ASK')\n",
    "plt.grid(True)\n",
    "plt.show()"
   ]
  },
  {
   "cell_type": "markdown",
   "metadata": {},
   "source": [
    "**MEDIO DE TRANSMISIÓN RUIDOSO**\n",
    "\n",
    "Simule un medio de transmisión ruidoso definiendo un ruido N y almacenándola en una variable N. Escriba un programa que cambie aleatoriamente el valor de cada muestra de una secuencia de muestras transmitidos s(k), almacenada en un arreglo sT. Las muestras modificados deben conformar la secuencia de muestras recibidos  s∗(k), del mismo tamaño de s(k), almacenada en un arreglo sR.\n",
    "\n"
   ]
  },
  {
   "cell_type": "code",
   "execution_count": 3,
   "metadata": {},
   "outputs": [
    {
     "name": "stdout",
     "output_type": "stream",
     "text": [
      "Secuencia con ruido: [-0.38302919 -0.57641666 -0.25915282 -0.16383059 -0.29153177 -0.43621881\n",
      " -0.2453598  -0.15734    -0.02756327 -0.37757537 -0.98934941 -0.95134006\n",
      " -0.89284335 -0.81363077 -0.77597994 -0.57955223 -0.89395039 -1.07707525\n",
      " -0.8626059  -0.8339537   1.44228566  0.93623566  1.1315911   1.04584927\n",
      "  1.27686526  0.42290155  0.95184395  1.13670785  0.80653519  0.82931958\n",
      " -1.31856428 -0.55130294 -0.96421347 -1.46590621 -1.13009416 -1.27351172\n",
      " -1.35832897 -0.93080017 -1.3231842  -1.2073846 ]\n",
      "Secuencia recibida: [ 0.15864654 -0.42770408 -1.23667693 -1.62504372  0.08135225 -2.62843622\n",
      " -1.28081353  0.38421539 -0.56511472 -0.79962338 -0.21527148  0.3181332\n",
      " -2.18321821 -0.20937717  0.09350336 -2.03981177 -2.72157751 -0.86391939\n",
      " -0.99985485  0.3664215   0.95084708  2.21625949  0.95001346  1.7455467\n",
      "  0.85714646  1.23729187  0.9782589   0.66376796  0.0940552  -0.21982365\n",
      " -0.20010103 -1.52964991 -1.63096102  0.22121506 -2.25370644 -1.9290241\n",
      " -1.7477632  -0.86901846 -2.4927817   0.60325349]\n"
     ]
    }
   ],
   "source": [
    "import numpy as np\n",
    "def add_noise(x, snr):\n",
    "    # Calcular la potencia de la señal transmitida\n",
    "    signal_power = np.mean(np.abs(x) ** 2)\n",
    "\n",
    "    # Calcular la potencia del ruido en función de la relación señal-ruido (SNR)\n",
    "    noise_power = signal_power / (10 ** (snr / 10))\n",
    "\n",
    "    # Generar el ruido gaussiano\n",
    "    noise = np.random.normal(0, np.sqrt(noise_power), len(x))\n",
    "\n",
    "    # Sumar el ruido a la señal transmitida\n",
    "    x_r = x + noise\n",
    "\n",
    "    return x_r\n",
    "\n",
    "snr = 10  # Relación señal-ruido (SNR) en dB\n",
    "s_R = add_noise(s_k, snr)\n",
    "print(\"Secuencia con ruido:\", s_R)\n",
    "\n",
    "# Realizar cambios aleatorios en las muestras transmitidas\n",
    "N = np.random.normal(0, 1, len(s_k))\n",
    "s_star_k = s_k + N\n",
    "print(\"Secuencia recibida:\", s_star_k)"
   ]
  },
  {
   "cell_type": "markdown",
   "metadata": {},
   "source": [
    "**Desmodulador digital paso-base**\n",
    "Simule un desmodulador digital paso-banda que utilice un esquema de modulación ASK de orden M, definiendo un procedimiento de muestreo o de integración y descarte y escribiendo un programa que recupere los bits de una secuencia de información, almacenada en un arreglo a partir de una secuencia de muestras.\n"
   ]
  },
  {
   "cell_type": "code",
   "execution_count": 5,
   "metadata": {},
   "outputs": [
    {
     "name": "stdout",
     "output_type": "stream",
     "text": [
      "La secuencia desmodulada es: [0 1 0 0 1 0 0 0]\n"
     ]
    }
   ],
   "source": [
    "import numpy as np\n",
    "\n",
    "s_k = modulacionASK(bcT, fc, Ts)\n",
    "\n",
    "def desmoduladorASK(sn, fc, Ts):\n",
    "    # Número de niveles de amplitud en la modulación ASK\n",
    "    M = 4\n",
    "\n",
    "    # Umbrales para la detección de amplitud\n",
    "    umbrales = [-1.5, -0.5, 0.5, 1.5]\n",
    "\n",
    "    # Número de muestras por símbolo\n",
    "    Ns = int(Ts * fc)\n",
    "\n",
    "    # Número de símbolos en la señal modulada\n",
    "    num_simbolos = len(sn) // Ns\n",
    "\n",
    "    # Inicializar la secuencia de bits de salida\n",
    "    bits_recibidos = []\n",
    "\n",
    "    # Procesar cada símbolo\n",
    "    for i in range(num_simbolos):\n",
    "        # Obtener una muestra del símbolo\n",
    "        muestra_simbolo = sn[i * Ns: (i + 1) * Ns]\n",
    "\n",
    "        # Calcular el promedio de la muestra del símbolo\n",
    "        promedio_muestra = np.mean(muestra_simbolo)\n",
    "\n",
    "        # Encontrar el índice del umbral más cercano al promedio de la muestra\n",
    "        indice_umbral = min(range(len(umbrales)), key=lambda x: abs(umbrales[x] - promedio_muestra))\n",
    "\n",
    "        # Convertir el índice del umbral en la secuencia de bits del símbolo\n",
    "        bits_simbolo = [int(bit) for bit in np.binary_repr(indice_umbral, width=int(np.log2(M)))]\n",
    "\n",
    "        # Agregar la secuencia de bits del símbolo a la secuencia de bits recibidos\n",
    "        bits_recibidos.extend(bits_simbolo)\n",
    "\n",
    "    # Verificar si se agregaron ceros adicionales durante la modulación\n",
    "    diferencia = len(bits_recibidos) % int(np.log2(M))\n",
    "    if diferencia > 0:\n",
    "        # Eliminar los ceros adicionales\n",
    "        bits_recibidos = bits_recibidos[:-diferencia]\n",
    "\n",
    "    return np.array(bits_recibidos)\n",
    "\n",
    "\n",
    "\n",
    "\n",
    "\n",
    "############# Prueba #################\n",
    "\n",
    "\n",
    "# Realizar la desmodulación ASK\n",
    "secuencia_recibida = desmoduladorASK(s_k, fc, Ts)\n",
    "\n",
    "# Imprimir información sobre la demodulación\n",
    "\n",
    "print(\"La secuencia desmodulada es:\", secuencia_recibida)\n",
    "\n",
    "\n",
    "\n"
   ]
  },
  {
   "cell_type": "markdown",
   "metadata": {},
   "source": [
    "**Proyecto Integrado**\n",
    "\n",
    "En la siguiente sección se procede a conectar los componentes de modulación y demodulación con las partes anteriormente realizadas(codificador de fuente, codificador de canal) con el fin de comprobar su correcto funcionamiento. Para estoy dirigase al archivo proyecto_integrado.py, este se le realizó una interfaz interactiva para que el usuario escoja que elementos quiere probar:\n",
    "\n",
    "                                                                                                    --opcion 1--: codificación canal \n",
    "                                                                                                    --opcion 2--: cofificación de fuente y canal\n",
    "                                                                                                    --opcion 3--: codificación de fuente, canal y modulacion banda base\n",
    "\n",
    "Tambien, en el código abajo note que se exporta el archivo por lo que puede utilizarlo desde aquí. Además, el código despliega toda la información necesaria para ir demostrando que se cumple satisfactoriamente el proceso de comunicación. "
   ]
  },
  {
   "cell_type": "code",
   "execution_count": 35,
   "metadata": {},
   "outputs": [
    {
     "name": "stdout",
     "output_type": "stream",
     "text": [
      "Menú de opciones:\n",
      "1. Opción 1: Codificación de canal\n",
      "2. Opción 2: Codificación de fuente y canal\n",
      "3. Opción 3: Codificación de fuente, canal y modulación\n",
      "Ha seleccionado la opción 3\n",
      "El mensaje es: Hola\n",
      "El mensaje codificado con formato de impresión binaria:  0b1001000011011110110110001100001\n",
      "El mensaje codificado es:  01001000011011110110110001100001\n"
     ]
    },
    {
     "data": {
      "image/png": "[encoded data removed]",
      "text/plain": [
       "<Figure size 432x288 with 1 Axes>"
      ]
     },
     "metadata": {
      "needs_background": "light"
     },
     "output_type": "display_data"
    },
    {
     "name": "stdout",
     "output_type": "stream",
     "text": [
      "01001111000101011000111111110110001110001001100010001011\n",
      "Antes correcion:  [0 1 0 0 1 1 1]\n",
      "sindrome: 000\n",
      "0\n",
      "Despues correcion:  [0 1 0 0 1 1 1]\n",
      "Antes correcion:  [1 0 0 0 1 0 1]\n",
      "sindrome: 000\n",
      "1\n",
      "Despues correcion:  [1 0 0 0 1 0 1]\n",
      "Antes correcion:  [0 1 1 0 0 0 1]\n",
      "sindrome: 000\n",
      "0\n",
      "Despues correcion:  [0 1 1 0 0 0 1]\n",
      "Antes correcion:  [1 1 1 1 1 1 1]\n",
      "sindrome: 000\n",
      "1\n",
      "Despues correcion:  [1 1 1 1 1 1 1]\n",
      "Antes correcion:  [0 1 1 0 0 0 1]\n",
      "sindrome: 000\n",
      "0\n",
      "Despues correcion:  [0 1 1 0 0 0 1]\n",
      "Antes correcion:  [1 1 0 0 0 1 0]\n",
      "sindrome: 000\n",
      "1\n",
      "Despues correcion:  [1 1 0 0 0 1 0]\n",
      "Antes correcion:  [0 1 1 0 0 0 1]\n",
      "sindrome: 000\n",
      "0\n",
      "Despues correcion:  [0 1 1 0 0 0 1]\n",
      "Antes correcion:  [0 0 0 1 0 1 1]\n",
      "sindrome: 000\n",
      "0\n",
      "Despues correcion:  [0 0 0 1 0 1 1]\n",
      "Secuencia enviada:  01001000011011110110110001100001\n",
      "La secuencia modulada x(k):  [-0.33333333 -1.          0.33333333  0.33333333 -1.         -0.33333333\n",
      " -0.33333333 -0.33333333  1.         -1.          0.33333333  0.33333333\n",
      "  0.33333333  0.33333333 -0.33333333  1.         -1.          0.33333333\n",
      "  1.         -1.          1.         -0.33333333  1.         -1.\n",
      "  1.         -1.          1.          0.33333333]\n",
      "Secuencia con ruido:  [-0.37068713 -0.90734973 -0.23889878  0.07750214 -0.8760009  -0.2016945\n",
      " -0.23697939 -0.49903404  1.25195638 -1.26794859  0.39622487  0.09494556\n",
      "  0.0417283   0.36271186 -0.10035421  0.80512846 -1.39963974  0.45908053\n",
      "  0.95592071 -0.72794555  0.99802763 -0.51280738  0.94895546 -1.25715329\n",
      "  0.86296458 -1.01914017  1.11222928  0.12804449]\n",
      "La secuencia demodulada es:  01001111000101011000111111110110001110001001100010001011\n",
      "Secuencia recibida:  01001000011011110110110001100001\n",
      "1215261793\n",
      "El mensaje luego del proceso de decodificación de canal y fuente es:  Hola\n"
     ]
    }
   ],
   "source": [
    "import modulación_PAM as mpam\n",
    "\n",
    "# Menú\n",
    "print(\"Menú de opciones:\")\n",
    "print(\"1. Opción 1: Codificación de canal\")\n",
    "print(\"2. Opción 2: Codificación de fuente y canal\")\n",
    "print(\"3. Opción 3: Codificación de fuente, canal y modulación\")\n",
    "\n",
    "opcion_seleccionada = int(input(\"Seleccione una opción: \"))\n",
    "mpam.menu(opcion_seleccionada)"
   ]
  }
 ],
 "metadata": {
  "kernelspec": {
   "display_name": "Python 3 (ipykernel)",
   "language": "python",
   "name": "python3"
  },
  "language_info": {
   "codemirror_mode": {
    "name": "ipython",
    "version": 3
   },
   "file_extension": ".py",
   "mimetype": "text/x-python",
   "name": "python",
   "nbconvert_exporter": "python",
   "pygments_lexer": "ipython3",
   "version": "3.9.12"
  }
 },
 "nbformat": 4,
 "nbformat_minor": 2
}
