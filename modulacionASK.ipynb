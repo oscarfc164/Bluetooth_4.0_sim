{
 "cells": [
  {
   "attachments": {},
   "cell_type": "markdown",
   "metadata": {},
   "source": [
    "**PROYECTO 3**\n",
    "\n",
    "\n",
    "**AUTORES**: \n",
    "\n",
    "             Oscar Fallas B92861\n",
    "\n",
    "             Daniel Chacon B72018\n",
    "             \n",
    "             Alejandro Castillo B81787\n",
    "                                                                                            \n",
    "\n",
    "\n",
    "\n",
    "**MODULACIÓN ASK**\n",
    "\n",
    "Dada un secuencia de bits bcT almancenando cada bit en un arreglo, se procederá a realizar modulación ASK con M = 4"
   ]
  },
  {
   "cell_type": "code",
   "execution_count": 64,
   "metadata": {},
   "outputs": [
    {
     "name": "stdout",
     "output_type": "stream",
     "text": [
      "La secuencia de entrada es: [0 1 0 0 1 0 0]\n",
      "La secuencia modulada s(k): [-0.33333333 -0.33333333 -0.33333333 -0.33333333 -0.33333333 -0.33333333\n",
      " -0.33333333 -0.33333333 -0.33333333 -0.33333333 -1.         -1.\n",
      " -1.         -1.         -1.         -1.         -1.         -1.\n",
      " -1.         -1.          0.33333333  0.33333333  0.33333333  0.33333333\n",
      "  0.33333333  0.33333333  0.33333333  0.33333333  0.33333333  0.33333333\n",
      " -1.         -1.         -1.         -1.         -1.         -1.\n",
      " -1.         -1.         -1.         -1.        ]\n",
      "Cantidad de ceros agregados: 33\n"
     ]
    },
    {
     "data": {
      "image/png": "[encoded data removed]",
      "text/plain": [
       "<Figure size 640x480 with 1 Axes>"
      ]
     },
     "metadata": {},
     "output_type": "display_data"
    }
   ],
   "source": [
    "import numpy as np\n",
    "import matplotlib.pyplot as plt\n",
    "\n",
    "M = 4\n",
    "\n",
    "def modulacionASK(bc, fc, Ts):\n",
    "    # Verificar que la longitud de la secuencia de bits bc(ℓ) sea múltiplo de log2(M)\n",
    "    b = int(np.log2(M))\n",
    "    if len(bc) % b != 0:\n",
    "        # Rellenar con ceros si no es múltiplo\n",
    "        bc = np.concatenate([bc, np.zeros(b - len(bc) % b)])\n",
    "\n",
    "    # Dividir la secuencia de bits en grupos de M\n",
    "    grupos = [bc[i:i+int(np.log2(M))] for i in range(0, len(bc), int(np.log2(M)))]\n",
    "\n",
    "    # Diccionario de asignación de símbolos de amplitud\n",
    "    simbolos = {\n",
    "        (0, 0): -1,\n",
    "        (0, 1): -1/3,\n",
    "        (1, 0): 1,\n",
    "        (1, 1): 1/3\n",
    "        }\n",
    "\n",
    "    # Secuencia de símbolos a(n)\n",
    "    an = [simbolos[tuple(grupo)] for grupo in grupos]\n",
    "\n",
    "    # Secuencia de muestras c(k)\n",
    "    Ns = int(Ts * fc)\n",
    "    t = np.arange(0, Ns)\n",
    "    c = np.cos(2 * np.pi * fc * t / Ns)\n",
    "\n",
    "    # Secuencia de señal modulada sn(k)\n",
    "    sn = np.kron(an, c)\n",
    "\n",
    "    return sn\n",
    "\n",
    "# Parámetros de la modulación\n",
    "bcT = np.array([0, 1, 0, 0, 1, 0, 0])  # Secuencia de bits\n",
    "fc = 10e3  # Frecuencia de la portadora (10 kHz)\n",
    "Ts = 1e-3  # Duración de la señal c(t) (1 ms)\n",
    "\n",
    "# Realizar la modulación ASK\n",
    "s_k = modulacionASK(bcT, fc, Ts)\n",
    "\n",
    "# Imprimir información sobre la modulación\n",
    "print(\"La secuencia de entrada es:\", bcT)\n",
    "print(\"La secuencia modulada s(k):\", s_k)\n",
    "print(\"Cantidad de ceros agregados:\", len(s_k) - len(bcT))\n",
    "\n",
    "# Graficar la señal modulada\n",
    "t = np.linspace(0, len(s_k) / fc, len(s_k))\n",
    "plt.plot(t, s_k)\n",
    "plt.xlabel('Tiempo (s)')\n",
    "plt.ylabel('Amplitud')\n",
    "plt.title('Señal Modulada ASK')\n",
    "plt.grid(True)\n",
    "plt.show()"
   ]
  },
  {
   "attachments": {},
   "cell_type": "markdown",
   "metadata": {},
   "source": [
    "**MEDIO DE TRANSMISIÓN RUIDOSO**\n",
    "\n",
    "Simule un medio de transmisión ruidoso definiendo un ruido N y almacenándola en una variable N. Escriba un programa que cambie aleatoriamente el valor de cada muestra de una secuencia de muestras transmitidos s(k), almacenada en un arreglo sT. Las muestras modificados deben conformar la secuencia de muestras recibidos  s∗(k), del mismo tamaño de s(k), almacenada en un arreglo sR.\n",
    "\n"
   ]
  },
  {
   "cell_type": "code",
   "execution_count": 65,
   "metadata": {},
   "outputs": [
    {
     "name": "stdout",
     "output_type": "stream",
     "text": [
      "Secuencia con ruido: [-6.32730563e-01 -9.04359506e-01 -3.99145352e-01  2.24061256e-04\n",
      "  1.05588412e-02 -7.21790480e-01 -3.97523000e-01 -5.64367478e-01\n",
      " -5.71615455e-02 -3.19949487e-01 -1.07016666e+00 -1.00604288e+00\n",
      " -7.47899646e-01 -1.23373303e+00 -9.10749548e-01 -6.09394524e-01\n",
      " -7.94303558e-01 -7.33324594e-01 -9.13527049e-01 -8.86955451e-01\n",
      "  2.96323677e-01  2.12994084e-01  6.51541801e-01  2.92435902e-01\n",
      "  1.10879228e-01  1.67836900e-01  5.43167501e-01  2.75289326e-01\n",
      "  6.55630036e-01  6.50516879e-01 -1.16628773e+00 -1.32764983e+00\n",
      " -1.02586811e+00 -9.45670733e-01 -1.29699452e+00 -7.94517427e-01\n",
      " -1.12056593e+00 -1.06990561e+00 -1.39667569e+00 -9.26793068e-01]\n",
      "Secuencia recibida: [-0.04341087  0.19167859 -0.25345639 -0.94002844  0.34958204  0.20981365\n",
      "  1.36543322  1.17463826 -1.15426536 -0.80706842  0.43722661 -1.21883164\n",
      " -1.55073288 -0.93004005 -0.6463235   0.80851738 -0.5528194  -1.31939286\n",
      " -1.30857493 -2.85634593 -0.5161051   0.8432971   0.47389361  1.34485982\n",
      "  1.25806257 -0.50571947  2.24888798  0.20253133 -1.03464392  0.7267688\n",
      " -0.09378912 -0.23136216 -0.18080676 -2.8691027   1.06501628 -1.02464673\n",
      " -0.01693377 -0.38807525 -0.31093113 -0.04649604]\n"
     ]
    }
   ],
   "source": [
    "import numpy as np\n",
    "def add_noise(x, snr):\n",
    "    # Calcular la potencia de la señal transmitida\n",
    "    signal_power = np.mean(np.abs(x) ** 2)\n",
    "\n",
    "    # Calcular la potencia del ruido en función de la relación señal-ruido (SNR)\n",
    "    noise_power = signal_power / (10 ** (snr / 10))\n",
    "\n",
    "    # Generar el ruido gaussiano\n",
    "    noise = np.random.normal(0, np.sqrt(noise_power), len(x))\n",
    "\n",
    "    # Sumar el ruido a la señal transmitida\n",
    "    x_r = x + noise\n",
    "\n",
    "    return x_r\n",
    "\n",
    "snr = 10  # Relación señal-ruido (SNR) en dB\n",
    "s_R = add_noise(s_k, snr)\n",
    "print(\"Secuencia con ruido:\", s_R)\n",
    "\n",
    "# Realizar cambios aleatorios en las muestras transmitidas\n",
    "N = np.random.normal(0, 1, len(s_k))\n",
    "s_star_k = s_k + N\n",
    "print(\"Secuencia recibida:\", s_star_k)"
   ]
  },
  {
   "attachments": {},
   "cell_type": "markdown",
   "metadata": {},
   "source": [
    "**Desmodulador digital paso-base**\n",
    "Simule un desmodulador digital paso-banda que utilice un esquema de modulación ASK de orden M, definiendo un procedimiento de muestreo o de integración y descarte y escribiendo un programa que recupere los bits de una secuencia de información, almacenada en un arreglo a partir de una secuencia de muestras.\n"
   ]
  },
  {
   "cell_type": "code",
   "execution_count": 98,
   "metadata": {},
   "outputs": [
    {
     "name": "stdout",
     "output_type": "stream",
     "text": [
      "La secuencia de bits demodulada: [1 1 1 1 1 1 1 1]\n"
     ]
    }
   ],
   "source": [
    "import numpy as np\n",
    "\n",
    "def desmoduladorASK(s_k, M, bc, tol=0.1):\n",
    "    simbolos_inversos = {\n",
    "        -1: (0, 0),\n",
    "        -1/3: (0, 1),\n",
    "        1: (1, 0),\n",
    "        1/3: (1, 1)\n",
    "    }\n",
    "\n",
    "    Ns = len(simbolos_inversos[-1])\n",
    "    b = int(np.log2(M))\n",
    "    n_simbolos = len(s_k) // Ns\n",
    "\n",
    "    s_n_k = np.reshape(s_k, (n_simbolos, Ns))\n",
    "    envolvente = np.abs(s_n_k)\n",
    "    y_n = np.mean(envolvente[:, :Ns//2], axis=1)\n",
    "\n",
    "    simbolos = np.array(list(simbolos_inversos.keys()))\n",
    "    distancias = np.abs(y_n[:, np.newaxis] - simbolos)\n",
    "    indices_simbolo = np.argmin(distancias, axis=1)\n",
    "    simbolos_recibidos = simbolos[indices_simbolo]\n",
    "\n",
    "    bits_demodulados = np.concatenate([simbolos_inversos[simbolo] for simbolo in simbolos_recibidos])\n",
    "\n",
    "    diferencia = len(bits_demodulados) - len(bc)\n",
    "    if diferencia > 0:\n",
    "        bits_demodulados = bits_demodulados[:len(bc)]\n",
    "\n",
    "    return bits_demodulados\n",
    "\n",
    "# Número de símbolos M\n",
    "M = 4\n",
    "\n",
    "# Secuencia de bits original\n",
    "bc = np.array([0, 1, 0, 1, 1, 0, 1, 0])\n",
    "\n",
    "# Secuencia de muestras s∗(k)\n",
    "s_k = modulacionASK(bc, fc, Ts)\n",
    "\n",
    "# Desmodular la secuencia de muestras\n",
    "demodulacion = desmoduladorASK(s_k, M, bc)\n",
    "print(\"La secuencia de bits demodulada:\", demodulacion)"
   ]
  },
  {
   "attachments": {},
   "cell_type": "markdown",
   "metadata": {},
   "source": [
    "**Proyecto Integrado**\n",
    "\n",
    "En la siguiente sección se procede a conectar los componentes de modulación y demodulación con las partes anteriormente realizadas(codificador de fuente, codificador de canal) con el fin de comprobar su correcto funcionamiento. Para estoy dirigase al archivo proyecto_integrado.py, este se le realizó una interfaz interactiva para que el usuario escoja que elementos quiere probar:\n",
    "\n",
    "                                                                                                    --opcion 1--: codificación canal \n",
    "                                                                                                    --opcion 2--: cofificación de fuente y canal\n",
    "                                                                                                    --opcion 3--: codificación de fuente, canal y modulacion banda base\n",
    "\n",
    "Tambien, en el código abajo note que se exporta el archivo por lo que puede utilizarlo desde aquí. Además, el código despliega toda la información necesaria para ir demostrando que se cumple satisfactoriamente el proceso de comunicación. "
   ]
  },
  {
   "cell_type": "code",
   "execution_count": 35,
   "metadata": {},
   "outputs": [
    {
     "name": "stdout",
     "output_type": "stream",
     "text": [
      "Menú de opciones:\n",
      "1. Opción 1: Codificación de canal\n",
      "2. Opción 2: Codificación de fuente y canal\n",
      "3. Opción 3: Codificación de fuente, canal y modulación\n",
      "Ha seleccionado la opción 3\n",
      "El mensaje es: Hola\n",
      "El mensaje codificado con formato de impresión binaria:  0b1001000011011110110110001100001\n",
      "El mensaje codificado es:  01001000011011110110110001100001\n"
     ]
    },
    {
     "data": {
      "image/png": "[encoded data removed]",
      "text/plain": [
       "<Figure size 432x288 with 1 Axes>"
      ]
     },
     "metadata": {
      "needs_background": "light"
     },
     "output_type": "display_data"
    },
    {
     "name": "stdout",
     "output_type": "stream",
     "text": [
      "01001111000101011000111111110110001110001001100010001011\n",
      "Antes correcion:  [0 1 0 0 1 1 1]\n",
      "sindrome: 000\n",
      "0\n",
      "Despues correcion:  [0 1 0 0 1 1 1]\n",
      "Antes correcion:  [1 0 0 0 1 0 1]\n",
      "sindrome: 000\n",
      "1\n",
      "Despues correcion:  [1 0 0 0 1 0 1]\n",
      "Antes correcion:  [0 1 1 0 0 0 1]\n",
      "sindrome: 000\n",
      "0\n",
      "Despues correcion:  [0 1 1 0 0 0 1]\n",
      "Antes correcion:  [1 1 1 1 1 1 1]\n",
      "sindrome: 000\n",
      "1\n",
      "Despues correcion:  [1 1 1 1 1 1 1]\n",
      "Antes correcion:  [0 1 1 0 0 0 1]\n",
      "sindrome: 000\n",
      "0\n",
      "Despues correcion:  [0 1 1 0 0 0 1]\n",
      "Antes correcion:  [1 1 0 0 0 1 0]\n",
      "sindrome: 000\n",
      "1\n",
      "Despues correcion:  [1 1 0 0 0 1 0]\n",
      "Antes correcion:  [0 1 1 0 0 0 1]\n",
      "sindrome: 000\n",
      "0\n",
      "Despues correcion:  [0 1 1 0 0 0 1]\n",
      "Antes correcion:  [0 0 0 1 0 1 1]\n",
      "sindrome: 000\n",
      "0\n",
      "Despues correcion:  [0 0 0 1 0 1 1]\n",
      "Secuencia enviada:  01001000011011110110110001100001\n",
      "La secuencia modulada x(k):  [-0.33333333 -1.          0.33333333  0.33333333 -1.         -0.33333333\n",
      " -0.33333333 -0.33333333  1.         -1.          0.33333333  0.33333333\n",
      "  0.33333333  0.33333333 -0.33333333  1.         -1.          0.33333333\n",
      "  1.         -1.          1.         -0.33333333  1.         -1.\n",
      "  1.         -1.          1.          0.33333333]\n",
      "Secuencia con ruido:  [-0.37068713 -0.90734973 -0.23889878  0.07750214 -0.8760009  -0.2016945\n",
      " -0.23697939 -0.49903404  1.25195638 -1.26794859  0.39622487  0.09494556\n",
      "  0.0417283   0.36271186 -0.10035421  0.80512846 -1.39963974  0.45908053\n",
      "  0.95592071 -0.72794555  0.99802763 -0.51280738  0.94895546 -1.25715329\n",
      "  0.86296458 -1.01914017  1.11222928  0.12804449]\n",
      "La secuencia demodulada es:  01001111000101011000111111110110001110001001100010001011\n",
      "Secuencia recibida:  01001000011011110110110001100001\n",
      "1215261793\n",
      "El mensaje luego del proceso de decodificación de canal y fuente es:  Hola\n"
     ]
    }
   ],
   "source": [
    "import modulación_PAM as mpam\n",
    "\n",
    "# Menú\n",
    "print(\"Menú de opciones:\")\n",
    "print(\"1. Opción 1: Codificación de canal\")\n",
    "print(\"2. Opción 2: Codificación de fuente y canal\")\n",
    "print(\"3. Opción 3: Codificación de fuente, canal y modulación\")\n",
    "\n",
    "opcion_seleccionada = int(input(\"Seleccione una opción: \"))\n",
    "mpam.menu(opcion_seleccionada)"
   ]
  }
 ],
 "metadata": {
  "kernelspec": {
   "display_name": "Python 3 (ipykernel)",
   "language": "python",
   "name": "python3"
  },
  "language_info": {
   "codemirror_mode": {
    "name": "ipython",
    "version": 3
   },
   "file_extension": ".py",
   "mimetype": "text/x-python",
   "name": "python",
   "nbconvert_exporter": "python",
   "pygments_lexer": "ipython3",
   "version": "3.9.12"
  }
 },
 "nbformat": 4,
 "nbformat_minor": 2
}
