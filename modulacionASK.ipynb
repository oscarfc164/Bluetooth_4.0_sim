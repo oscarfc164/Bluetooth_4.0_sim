{
 "cells": [
  {
   "attachments": {},
   "cell_type": "markdown",
   "metadata": {},
   "source": [
    "**PROYECTO 3**\n",
    "\n",
    "\n",
    "**AUTORES**: \n",
    "\n",
    "             Oscar Fallas B92861\n",
    "\n",
    "             Daniel Chacon B72018\n",
    "             \n",
    "             Alejandro Castillo B81787\n",
    "                                                                                            \n",
    "\n",
    "\n",
    "\n",
    "**MODULACIÓN ASK**\n",
    "\n",
    "Dada un secuencia de bits bcT almancenando cada bit en un arreglo, se procederá a realizar modulación ASK con M = 4"
   ]
  },
  {
   "cell_type": "code",
   "execution_count": 2,
   "metadata": {},
   "outputs": [
    {
     "name": "stdout",
     "output_type": "stream",
     "text": [
      "La secuencia de entrada es: [0 1 0 0 1 0 0]\n",
      "La secuencia modulada s(k): [-0.33333333 -0.33333333 -0.33333333 -0.33333333 -0.33333333 -0.33333333\n",
      " -0.33333333 -0.33333333 -0.33333333 -0.33333333 -1.         -1.\n",
      " -1.         -1.         -1.         -1.         -1.         -1.\n",
      " -1.         -1.          1.          1.          1.          1.\n",
      "  1.          1.          1.          1.          1.          1.\n",
      " -1.         -1.         -1.         -1.         -1.         -1.\n",
      " -1.         -1.         -1.         -1.        ]\n",
      "Cantidad de ceros agregados: 33\n"
     ]
    },
    {
     "data": {
      "image/png": "[encoded data removed]",
      "text/plain": [
       "<Figure size 640x480 with 1 Axes>"
      ]
     },
     "metadata": {},
     "output_type": "display_data"
    }
   ],
   "source": [
    "import numpy as np\n",
    "import matplotlib.pyplot as plt\n",
    "\n",
    "M = 4\n",
    "\n",
    "def modulacionASK(bc, fc, Ts):\n",
    "    # Verificar que la longitud de la secuencia de bits bc(ℓ) sea múltiplo de log2(M)\n",
    "    b = int(np.log2(M))\n",
    "    if len(bc) % b != 0:\n",
    "        # Rellenar con ceros si no es múltiplo\n",
    "        bc = np.concatenate([bc, np.zeros(b - len(bc) % b)])\n",
    "\n",
    "    # Dividir la secuencia de bits en grupos de M\n",
    "    grupos = [bc[i:i+int(np.log2(M))] for i in range(0, len(bc), int(np.log2(M)))]\n",
    "\n",
    "    # Diccionario de asignación de símbolos de amplitud\n",
    "    simbolos = {\n",
    "        (0, 0): -1,\n",
    "        (0, 1): -1/3,\n",
    "        (1, 0): 1,\n",
    "        (1, 1): 1/3\n",
    "        }\n",
    "\n",
    "    # Secuencia de símbolos a(n)\n",
    "    an = [simbolos[tuple(grupo)] for grupo in grupos]\n",
    "\n",
    "    # Secuencia de muestras c(k)\n",
    "    Ns = int(Ts * fc)\n",
    "    t = np.arange(0, Ns)\n",
    "    c = np.cos(2 * np.pi * fc * t / Ns)\n",
    "\n",
    "    # Secuencia de señal modulada sn(k)\n",
    "    sn = np.kron(an, c)\n",
    "\n",
    "    return sn\n",
    "\n",
    "# Parámetros de la modulación\n",
    "bcT = np.array([0, 1, 0, 0, 1, 0, 0])  # Secuencia de bits\n",
    "fc = 10e3  # Frecuencia de la portadora (10 kHz)\n",
    "Ts = 1e-3  # Duración de la señal c(t) (1 ms)\n",
    "\n",
    "# Realizar la modulación ASK\n",
    "s_k = modulacionASK(bcT, fc, Ts)\n",
    "\n",
    "# Imprimir información sobre la modulación\n",
    "print(\"La secuencia de entrada es:\", bcT)\n",
    "print(\"La secuencia modulada s(k):\", s_k)\n",
    "print(\"Cantidad de ceros agregados:\", len(s_k) - len(bcT))\n",
    "\n",
    "# Graficar la señal modulada\n",
    "t = np.linspace(0, len(s_k) / fc, len(s_k))\n",
    "plt.plot(t, s_k)\n",
    "plt.xlabel('Tiempo (s)')\n",
    "plt.ylabel('Amplitud')\n",
    "plt.title('Señal Modulada ASK')\n",
    "plt.grid(True)\n",
    "plt.show()"
   ]
  },
  {
   "attachments": {},
   "cell_type": "markdown",
   "metadata": {},
   "source": [
    "**MEDIO DE TRANSMISIÓN RUIDOSO**\n",
    "\n",
    "Simule un medio de transmisión ruidoso definiendo un ruido N y almacenándola en una variable N. Escriba un programa que cambie aleatoriamente el valor de cada muestra de una secuencia de muestras transmitidos s(k), almacenada en un arreglo sT. Las muestras modificados deben conformar la secuencia de muestras recibidos  s∗(k), del mismo tamaño de s(k), almacenada en un arreglo sR.\n",
    "\n"
   ]
  },
  {
   "cell_type": "code",
   "execution_count": 3,
   "metadata": {},
   "outputs": [
    {
     "name": "stdout",
     "output_type": "stream",
     "text": [
      "Secuencia con ruido: [-0.17430229 -0.57120331 -0.36392428 -0.15920639 -0.52242215 -0.47410717\n",
      " -0.03364143 -0.42602665 -0.43438124 -0.48945406 -1.20131923 -1.15287213\n",
      " -1.13401625 -1.01425694 -1.05138139 -0.99819883 -1.20154537 -1.12233856\n",
      " -0.510965   -1.06494506  1.12857555  0.47104652  0.66859185  0.94655499\n",
      "  0.97145029  0.92991101  1.037549    0.97997672  1.4754278   1.02364094\n",
      " -0.68456899 -0.98725791 -0.72841659 -0.61547745 -1.04999466 -1.44920318\n",
      " -0.84167863 -0.81240511 -0.88375813 -1.28577713]\n",
      "Secuencia recibida: [-0.47481812  0.32979638  0.18036964 -2.59447245 -2.80103209 -0.3604088\n",
      " -1.6724501   0.23042533 -0.56097782 -1.52948    -0.9826748  -1.79799267\n",
      " -0.66630546 -0.50740848 -2.65295994 -0.56954894 -0.64878719 -0.33747206\n",
      " -1.10726001 -1.09174422  0.92007862  0.34958348 -0.24580403  0.74173013\n",
      "  0.29898219  0.55507141  1.20712224 -0.34442818 -0.13255596  0.9653189\n",
      " -0.18017547 -3.05031739 -2.14443291 -1.80198016 -3.24609806  1.39457366\n",
      " -0.02712313 -0.60290343 -1.19556784 -1.23160128]\n"
     ]
    }
   ],
   "source": [
    "import numpy as np\n",
    "def add_noise(x, snr):\n",
    "    # Calcular la potencia de la señal transmitida\n",
    "    signal_power = np.mean(np.abs(x) ** 2)\n",
    "\n",
    "    # Calcular la potencia del ruido en función de la relación señal-ruido (SNR)\n",
    "    noise_power = signal_power / (10 ** (snr / 10))\n",
    "\n",
    "    # Generar el ruido gaussiano\n",
    "    noise = np.random.normal(0, np.sqrt(noise_power), len(x))\n",
    "\n",
    "    # Sumar el ruido a la señal transmitida\n",
    "    x_r = x + noise\n",
    "\n",
    "    return x_r\n",
    "\n",
    "snr = 10  # Relación señal-ruido (SNR) en dB\n",
    "s_R = add_noise(s_k, snr)\n",
    "print(\"Secuencia con ruido:\", s_R)\n",
    "\n",
    "# Realizar cambios aleatorios en las muestras transmitidas\n",
    "N = np.random.normal(0, 1, len(s_k))\n",
    "s_star_k = s_k + N\n",
    "print(\"Secuencia recibida:\", s_star_k)"
   ]
  },
  {
   "attachments": {},
   "cell_type": "markdown",
   "metadata": {},
   "source": [
    "**Desmodulador digital paso-base**\n",
    "Simule un desmodulador digital paso-banda que utilice un esquema de modulación ASK de orden M, definiendo un procedimiento de muestreo o de integración y descarte y escribiendo un programa que recupere los bits de una secuencia de información, almacenada en un arreglo a partir de una secuencia de muestras.\n"
   ]
  },
  {
   "cell_type": "code",
   "execution_count": 20,
   "metadata": {},
   "outputs": [
    {
     "name": "stdout",
     "output_type": "stream",
     "text": [
      "La secuencia de entrada es: [0 1 0 0 1 0 0]\n",
      "La secuencia de bits demodulada: [1 1 1 1 1 1 1 1]\n"
     ]
    }
   ],
   "source": [
    "\n",
    "import numpy as np\n",
    "\n",
    "def desmoduladorASK(s_k, M, bc, tol=0.1):\n",
    "    simbolos_inversos = {\n",
    "        -1: (0, 0),\n",
    "        -1/3: (0, 1),\n",
    "        1: (1, 0),\n",
    "        1/3: (1, 1)\n",
    "    }\n",
    "\n",
    "    Ns = len(simbolos_inversos[-1])\n",
    "    b = int(np.log2(M))\n",
    "    n_simbolos = len(s_k) // Ns\n",
    "\n",
    "    s_n_k = np.reshape(s_k, (n_simbolos, Ns))\n",
    "    envolvente = np.abs(s_n_k)\n",
    "    y_n = np.mean(envolvente[:, :Ns//2], axis=1)\n",
    "\n",
    "    simbolos = np.array(list(simbolos_inversos.keys()))\n",
    "    distancias = np.abs(y_n[:, np.newaxis] - simbolos)\n",
    "    indices_simbolo = np.argmin(distancias, axis=1)\n",
    "    simbolos_recibidos = simbolos[indices_simbolo]\n",
    "\n",
    "    bits_demodulados = np.concatenate([simbolos_inversos[simbolo] for simbolo in simbolos_recibidos])\n",
    "\n",
    "    diferencia = len(bits_demodulados) - len(bc)\n",
    "    if diferencia > 0:\n",
    "        bits_demodulados = bits_demodulados[:len(bc)]\n",
    "\n",
    "    return bits_demodulados\n",
    "\n",
    "# Número de símbolos M\n",
    "M = 4\n",
    "\n",
    "# Secuencia de bits original\n",
    "bc = np.array([0, 1, 0, 1, 1, 0, 1, 0])\n",
    "\n",
    "# Secuencia de muestras s∗(k)\n",
    "s_k = modulacionASK(bc, fc, Ts)\n",
    "\n",
    "# Desmodular la secuencia de muestras\n",
    "demodulacion = desmoduladorASK(s_k, M, bc)\n",
    "print(\"La secuencia de entrada es:\", bcT)\n",
    "\n",
    "print(\"La secuencia de bits demodulada:\", demodulacion)\n",
    "\n"
   ]
  },
  {
   "attachments": {},
   "cell_type": "markdown",
   "metadata": {},
   "source": [
    "**Proyecto Integrado**\n",
    "\n",
    "En la siguiente sección se procede a conectar los componentes de modulación y demodulación con las partes anteriormente realizadas(codificador de fuente, codificador de canal) con el fin de comprobar su correcto funcionamiento. Para estoy dirigase al archivo proyecto_integrado.py, este se le realizó una interfaz interactiva para que el usuario escoja que elementos quiere probar:\n",
    "\n",
    "                                                                                                    --opcion 1--: codificación canal \n",
    "                                                                                                    --opcion 2--: cofificación de fuente y canal\n",
    "                                                                                                    --opcion 3--: codificación de fuente, canal y modulacion banda base\n",
    "\n",
    "Tambien, en el código abajo note que se exporta el archivo por lo que puede utilizarlo desde aquí. Además, el código despliega toda la información necesaria para ir demostrando que se cumple satisfactoriamente el proceso de comunicación. "
   ]
  },
  {
   "cell_type": "code",
   "execution_count": 4,
   "metadata": {},
   "outputs": [
    {
     "name": "stdout",
     "output_type": "stream",
     "text": [
      "Menú de opciones:\n",
      "1. Opción 1: Codificación de canal\n",
      "2. Opción 2: Codificación de fuente y canal\n",
      "3. Opción 3: Codificación de fuente, canal y modulación\n"
     ]
    },
    {
     "name": "stdout",
     "output_type": "stream",
     "text": [
      "Ha seleccionado la codificación de canal\n",
      "Menú de opciones:\n",
      "1. Opción 1: Codificación de canal ideal\n",
      "2. Opción 2: Codificación de canal simétrico binario\n",
      "Ha seleccionado la opción de codificación de canal ideal\n",
      "00111010001011101100000000001111111101100011000100010110\n",
      "00111010001011101100000000001111111101100011000100010110\n",
      "Antes correcion:  [0 0 1 1 1 0 1]\n",
      "sindrome: 000\n",
      "0\n",
      "Despues correcion:  [0 0 1 1 1 0 1]\n",
      "Antes correcion:  [0 0 0 1 0 1 1]\n",
      "sindrome: 000\n",
      "0\n",
      "Despues correcion:  [0 0 0 1 0 1 1]\n",
      "Antes correcion:  [1 0 1 1 0 0 0]\n",
      "sindrome: 000\n",
      "1\n",
      "Despues correcion:  [1 0 1 1 0 0 0]\n",
      "Antes correcion:  [0 0 0 0 0 0 0]\n",
      "sindrome: 000\n",
      "0\n",
      "Despues correcion:  [0 0 0 0 0 0 0]\n",
      "Antes correcion:  [1 1 1 1 1 1 1]\n",
      "sindrome: 000\n",
      "1\n",
      "Despues correcion:  [1 1 1 1 1 1 1]\n",
      "Antes correcion:  [1 0 1 1 0 0 0]\n",
      "sindrome: 000\n",
      "1\n",
      "Despues correcion:  [1 0 1 1 0 0 0]\n",
      "Antes correcion:  [1 1 0 0 0 1 0]\n",
      "sindrome: 000\n",
      "1\n",
      "Despues correcion:  [1 1 0 0 0 1 0]\n",
      "Antes correcion:  [0 0 1 0 1 1 0]\n",
      "sindrome: 000\n",
      "0\n",
      "Despues correcion:  [0 0 1 0 1 1 0]\n",
      "Secuencia enviada:  00110001101100001111101111000010\n",
      "Secuencia recibida:  00110001101100001111101111000010\n",
      "% antes de correccion de errores 0.0\n",
      "% despues de correccion de errores 0.0\n",
      "Menú de opciones:\n",
      "1. Opción 1: Codificación de canal\n",
      "2. Opción 2: Codificación de fuente y canal\n",
      "3. Opción 3: Codificación de fuente, canal y modulación\n",
      "Ha seleccionado la opción 3\n",
      "El mensaje es: Hola\n",
      "El mensaje codificado con formato de impresión binaria:  0b1001000011011110110110001100001\n",
      "El mensaje codificado es:  01001000011011110110110001100001\n"
     ]
    },
    {
     "data": {
      "image/png": "[encoded data removed]",
      "text/plain": [
       "<Figure size 640x480 with 1 Axes>"
      ]
     },
     "metadata": {},
     "output_type": "display_data"
    },
    {
     "name": "stdout",
     "output_type": "stream",
     "text": [
      "01001111000101011000111111110110001110001001100010001111\n",
      "Antes correcion:  [0 1 0 0 1 1 1]\n",
      "sindrome: 000\n",
      "0\n",
      "Despues correcion:  [0 1 0 0 1 1 1]\n",
      "Antes correcion:  [1 0 0 0 1 0 1]\n",
      "sindrome: 000\n",
      "1\n",
      "Despues correcion:  [1 0 0 0 1 0 1]\n",
      "Antes correcion:  [0 1 1 0 0 0 1]\n",
      "sindrome: 000\n",
      "0\n",
      "Despues correcion:  [0 1 1 0 0 0 1]\n",
      "Antes correcion:  [1 1 1 1 1 1 1]\n",
      "sindrome: 000\n",
      "1\n",
      "Despues correcion:  [1 1 1 1 1 1 1]\n",
      "Antes correcion:  [0 1 1 0 0 0 1]\n",
      "sindrome: 000\n",
      "0\n",
      "Despues correcion:  [0 1 1 0 0 0 1]\n",
      "Antes correcion:  [1 1 0 0 0 1 0]\n",
      "sindrome: 000\n",
      "1\n",
      "Despues correcion:  [1 1 0 0 0 1 0]\n",
      "Antes correcion:  [0 1 1 0 0 0 1]\n",
      "sindrome: 000\n",
      "0\n",
      "Despues correcion:  [0 1 1 0 0 0 1]\n",
      "Antes correcion:  [0 0 0 1 1 1 1]\n",
      "sindrome: 100\n",
      "0\n",
      "Despues correcion:  [0 0 0 1 0 1 1]\n",
      "Secuencia enviada:  01001000011011110110110001100001\n",
      "La secuencia modulada x(k):  [-0.33333333 -1.          0.33333333  0.33333333 -1.         -0.33333333\n",
      " -0.33333333 -0.33333333  1.         -1.          0.33333333  0.33333333\n",
      "  0.33333333  0.33333333 -0.33333333  1.         -1.          0.33333333\n",
      "  1.         -1.          1.         -0.33333333  1.         -1.\n",
      "  1.         -1.          0.33333333  0.33333333]\n",
      "Secuencia con ruido:  [-0.48503094 -1.06634679  0.16067577  0.40979215 -0.54650106 -0.23024886\n",
      " -0.07313831 -0.58649662  0.89477803 -1.16462338  0.31369032  0.83907029\n",
      "  0.61985119  0.15773968 -0.44024917  1.21779347 -1.15085983  0.25530066\n",
      "  1.080004   -0.88897004  0.76120632 -0.16214018  1.1795729  -1.06228145\n",
      "  0.84970044 -0.7305146   0.54332726  0.53539867]\n",
      "La secuencia demodulada es:  01001111000101011000111111110110001110001001100010001111\n",
      "Secuencia recibida:  01001000011011110110110001100001\n",
      "1215261793\n",
      "El mensaje luego del proceso de decodificación de canal y fuente es:  Hola\n"
     ]
    }
   ],
   "source": [
    "import modulación_PAM as mpam\n",
    "\n",
    "# Menú\n",
    "print(\"Menú de opciones:\")\n",
    "print(\"1. Opción 1: Codificación de canal\")\n",
    "print(\"2. Opción 2: Codificación de fuente y canal\")\n",
    "print(\"3. Opción 3: Codificación de fuente, canal y modulación\")\n",
    "\n",
    "opcion_seleccionada = int(input(\"Seleccione una opción: \"))\n",
    "mpam.menu(opcion_seleccionada)"
   ]
  }
 ],
 "metadata": {
  "kernelspec": {
   "display_name": "Python 3 (ipykernel)",
   "language": "python",
   "name": "python3"
  },
  "language_info": {
   "codemirror_mode": {
    "name": "ipython",
    "version": 3
   },
   "file_extension": ".py",
   "mimetype": "text/x-python",
   "name": "python",
   "nbconvert_exporter": "python",
   "pygments_lexer": "ipython3",
   "version": "3.9.12"
  }
 },
 "nbformat": 4,
 "nbformat_minor": 2
}
