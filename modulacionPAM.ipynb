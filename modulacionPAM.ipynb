{
 "cells": [
  {
   "attachments": {},
   "cell_type": "markdown",
   "metadata": {},
   "source": [
    "**MODULACIÓN PAM**\n",
    "\n",
    "Dada un secuencia de bits bcT almancenando cada bit en un arreglo, se procederá a realizar modulación PAM con M = 4"
   ]
  },
  {
   "cell_type": "code",
   "execution_count": 3,
   "metadata": {},
   "outputs": [
    {
     "name": "stdout",
     "output_type": "stream",
     "text": [
      "La secuencia de entrada es: [0 1 0 1 1 0 1]\n"
     ]
    },
    {
     "data": {
      "image/png": "[encoded data removed]",
      "text/plain": [
       "<Figure size 640x480 with 1 Axes>"
      ]
     },
     "metadata": {},
     "output_type": "display_data"
    },
    {
     "name": "stdout",
     "output_type": "stream",
     "text": [
      "La secuencia modulada x(k):  [-0.33333333 -0.33333333  1.          1.        ]\n",
      "La secuencia de bits demodulada:  [0 1 0 1 1 0 1]\n"
     ]
    }
   ],
   "source": [
    "import numpy as np\n",
    "import matplotlib.pyplot as plt\n",
    "M = 4 \n",
    "\n",
    "\n",
    "\n",
    "def modulacionPAM(bc):\n",
    "    # Verificar que la longitud de la secuencia de bits bc(ℓ) sea múltiplo de log2(M)\n",
    "    b = int(np.log2(M))\n",
    "    if len(bc) % b != 0:\n",
    "        # Rellenar con ceros si no es múltiplo\n",
    "        bc = np.concatenate([bc, np.zeros(b - len(bc) % b)])\n",
    "\n",
    "    # Dividir la secuencia de bits en grupos de M\n",
    "    grupos = [bc[i:i+int(np.log2(M))] for i in range(0, len(bc), int(np.log2(M)))]\n",
    "    #print(grupos)\n",
    "\n",
    "    # Diccionario de asignación de símbolos de amplitud\n",
    "    simbolos = {\n",
    "        (0, 0): -1,\n",
    "        (0, 1): -1/3,\n",
    "        (1, 0): 1,\n",
    "        (1, 1): 1/3\n",
    "        }\n",
    "    \n",
    "    #Señal Modulada \n",
    "    x_k = []\n",
    "    for señal in grupos:\n",
    "        t_señal = tuple(señal)\n",
    "        simbolo = simbolos[tuple(t_señal)]\n",
    "        x_k.append(simbolo)\n",
    "    x_k = np.array(x_k)\n",
    "\n",
    "    #Definimos el tren de pulsos de amplitud 1 y longitud 20\n",
    "    t = np.arange(0,len(x_k),1)\n",
    "    p = np.ones_like(t)\n",
    "    #print(t)\n",
    "    x_k = x_k*p\n",
    "    #print(x_k)\n",
    "\n",
    "    # Graficar el tren de pulsos\n",
    "    plt.stem(t, x_k, linefmt='b-', markerfmt='bo', basefmt='r-')\n",
    "\n",
    "    # Configurar etiquetas y título del gráfico\n",
    "    plt.xlabel('Tiempo')\n",
    "    plt.ylabel('Amplitud')\n",
    "    plt.title('MODULACIÓN PAM')\n",
    "\n",
    "    # Ajustar los límites del eje y\n",
    "    plt.ylim(-1.5, 1.5)\n",
    "    plt.show()\n",
    "\n",
    "    return x_k\n",
    "    \n",
    "\n",
    "################################################\n",
    "\n",
    "\n",
    "\n",
    "\n",
    "def demodulacionPAM(x_k):\n",
    "    # Diccionario inverso de asignación de símbolos de amplitud\n",
    "    simbolos_inversos = {\n",
    "        -1: (0, 0),\n",
    "        -1/3: (0, 1),\n",
    "        1: (1, 0),\n",
    "        1/3: (1, 1)\n",
    "    }\n",
    "    \n",
    "    # Lista para almacenar la secuencia de bits demodulada\n",
    "    bits_demodulados = []\n",
    "    \n",
    "    # Iterar sobre cada símbolo de amplitud en la secuencia modulada\n",
    "    for simbolo in x_k:\n",
    "        # Buscar el símbolo de amplitud correspondiente en el diccionario inverso\n",
    "        bits = simbolos_inversos[simbolo]\n",
    "        \n",
    "        # Agregar los bits a la secuencia demodulada\n",
    "        bits_demodulados.extend(bits)\n",
    "    \n",
    "    # Ajustar la longitud de la secuencia demodulada\n",
    "    bits_demodulados = bits_demodulados[:len(x_k) * int(np.log2(M))-1]\n",
    "    \n",
    "    # Convertir la lista de bits demodulados en un array numpy\n",
    "    bits_demodulados = np.array(bits_demodulados)\n",
    "    \n",
    "    return bits_demodulados\n",
    "\n",
    "\n",
    "\n",
    "    \n",
    "###############################################   \n",
    "    \n",
    "\n",
    "    \n",
    "    \n",
    "bcT = np.array([0,1,0,1,1,0,1])\n",
    "print(\"La secuencia de entrada es:\",bcT)\n",
    "x_k = modulacionPAM(bcT)\n",
    "print(\"La secuencia modulada x(k): \", x_k)\n",
    "\n",
    "\n",
    "bits_demodulados = demodulacionPAM(x_k)\n",
    "print(\"La secuencia de bits demodulada: \", bits_demodulados)\n"
   ]
  },
  {
   "attachments": {},
   "cell_type": "markdown",
   "metadata": {},
   "source": [
    "**MEDIO DE TRANSMISIÓN RUIDOSO**\n",
    "\n",
    "Simule un medio de transmisión ruidoso definiendo un ruido N\n",
    "y almacenándola en una variable N. Escriba un programa que cambie aleatoriamente el valor de cada muestra de una secuencia de muestras transmitidos x(k), almacenada en un arreglo xT. Las muestras modificados deben conformar la secuencia de muestras recibidos  x∗(k), del mismo tamaño de x(k), almacenada en un arreglo xR.\n"
   ]
  },
  {
   "cell_type": "code",
   "execution_count": 4,
   "metadata": {},
   "outputs": [
    {
     "name": "stdout",
     "output_type": "stream",
     "text": [
      "Secuencia con ruido:  [-0.39657807 -0.24463292  0.91146186  1.5181672 ]\n"
     ]
    }
   ],
   "source": [
    "def add_noise(x, snr):\n",
    "    # Calcular la potencia de la señal transmitida\n",
    "    signal_power = np.mean(np.abs(x) ** 2)\n",
    "\n",
    "    # Calcular la potencia del ruido en función de la relación señal-ruido (SNR)\n",
    "    noise_power = signal_power / (10 ** (snr / 10))\n",
    "\n",
    "    # Generar el ruido gaussiano\n",
    "    noise = np.random.normal(0, np.sqrt(noise_power), len(x))\n",
    "\n",
    "    # Sumar el ruido a la señal transmitida\n",
    "    x_r = x + noise\n",
    "\n",
    "    return x_r\n",
    "\n",
    "x_R = add_noise(x_k, 10)\n",
    "print(\"Secuencia con ruido: \", x_R)"
   ]
  },
  {
   "attachments": {},
   "cell_type": "markdown",
   "metadata": {},
   "source": [
    "**Desmodulador digital banda-base**\n",
    "Simule un desmodulador digital banda-base que utilice un esquema de modulación PAM de orden  M , definiendo un procedimiento de muestreo o de integración y descarte y escribiendo un programa que recupere los bits de una secuencia de información, almacenada en un arreglo a partir de una secuencia de muestras.\n"
   ]
  },
  {
   "cell_type": "code",
   "execution_count": 5,
   "metadata": {},
   "outputs": [
    {
     "name": "stdout",
     "output_type": "stream",
     "text": [
      "La secuencia de bits demodulada:  [0 1 0 1 1 0 1]\n"
     ]
    }
   ],
   "source": [
    "import numpy as np\n",
    "\n",
    "def demodulacionPAM(x_k):\n",
    "    # Diccionario inverso de asignación de símbolos de amplitud\n",
    "    simbolos_inversos = {\n",
    "        -1: (0, 0),\n",
    "        -1/3: (0, 1),\n",
    "        1: (1, 0),\n",
    "        1/3: (1, 1)\n",
    "    }\n",
    "    \n",
    "    # Lista para almacenar la secuencia de bits demodulada\n",
    "    bits_demodulados = []\n",
    "    \n",
    "    # Iterar sobre cada símbolo de amplitud en la secuencia modulada\n",
    "    for simbolo in x_k:\n",
    "        # Buscar el símbolo de amplitud correspondiente en el diccionario inverso\n",
    "        bits = simbolos_inversos[simbolo]\n",
    "        \n",
    "        # Agregar los bits a la secuencia demodulada\n",
    "        bits_demodulados.extend(bits)\n",
    "    \n",
    "    # Ajustar la longitud de la secuencia demodulada\n",
    "    bits_demodulados = bits_demodulados[:len(x_k) * int(np.log2(M))-1]\n",
    "    \n",
    "    # Convertir la lista de bits demodulados en un array numpy\n",
    "    bits_demodulados = np.array(bits_demodulados)\n",
    "    \n",
    "    return bits_demodulados\n",
    "\n",
    "bits_demodulados = demodulacionPAM(x_k)\n",
    "print(\"La secuencia de bits demodulada: \", bits_demodulados)\n"
   ]
  }
 ],
 "metadata": {
  "kernelspec": {
   "display_name": "Python 3 (ipykernel)",
   "language": "python",
   "name": "python3"
  },
  "language_info": {
   "codemirror_mode": {
    "name": "ipython",
    "version": 3
   },
   "file_extension": ".py",
   "mimetype": "text/x-python",
   "name": "python",
   "nbconvert_exporter": "python",
   "pygments_lexer": "ipython3",
   "version": "3.9.12"
  }
 },
 "nbformat": 4,
 "nbformat_minor": 2
}
