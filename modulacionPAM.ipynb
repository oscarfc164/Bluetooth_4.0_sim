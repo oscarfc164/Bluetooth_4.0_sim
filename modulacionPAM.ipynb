{
 "cells": [
  {
   "attachments": {},
   "cell_type": "markdown",
   "metadata": {},
   "source": [
    "**PROYECTO 3**\n",
    "\n",
    "\n",
    "**AUTORES**: \n",
    "\n",
    "             Oscar Fallas B92861\n",
    "\n",
    "             Daniel Chacon B72018\n",
    "             \n",
    "             Alejandro Castillo B81787\n",
    "                                                                                            \n",
    "\n",
    "\n",
    "\n",
    "**MODULACIÓN PAM**\n",
    "\n",
    "Dada un secuencia de bits bcT almancenando cada bit en un arreglo, se procederá a realizar modulación PAM con M = 4"
   ]
  },
  {
   "cell_type": "code",
   "execution_count": 32,
   "metadata": {},
   "outputs": [
    {
     "name": "stdout",
     "output_type": "stream",
     "text": [
      "La secuencia de entrada es: [0 1 0 0 1 0 0]\n"
     ]
    },
    {
     "data": {
      "image/png": "[encoded data removed]",
      "text/plain": [
       "<Figure size 432x288 with 1 Axes>"
      ]
     },
     "metadata": {
      "needs_background": "light"
     },
     "output_type": "display_data"
    },
    {
     "name": "stdout",
     "output_type": "stream",
     "text": [
      "La secuencia modulada x(k):  [-0.33333333 -1.          1.         -1.        ]\n"
     ]
    }
   ],
   "source": [
    "import numpy as np\n",
    "import matplotlib.pyplot as plt\n",
    "M = 4 \n",
    "\n",
    "\n",
    "\n",
    "def modulacionPAM(bc):\n",
    "    # Verificar que la longitud de la secuencia de bits bc(ℓ) sea múltiplo de log2(M)\n",
    "    b = int(np.log2(M))\n",
    "    if len(bc) % b != 0:\n",
    "        # Rellenar con ceros si no es múltiplo\n",
    "        bc = np.concatenate([bc, np.zeros(b - len(bc) % b)])\n",
    "\n",
    "    # Dividir la secuencia de bits en grupos de M\n",
    "    grupos = [bc[i:i+int(np.log2(M))] for i in range(0, len(bc), int(np.log2(M)))]\n",
    "    #print(grupos)\n",
    "\n",
    "    # Diccionario de asignación de símbolos de amplitud\n",
    "    simbolos = {\n",
    "        (0, 0): -1,\n",
    "        (0, 1): -1/3,\n",
    "        (1, 0): 1,\n",
    "        (1, 1): 1/3\n",
    "        }\n",
    "    \n",
    "    #Señal Modulada \n",
    "    x_k = []\n",
    "    for señal in grupos:\n",
    "        t_señal = tuple(señal)\n",
    "        simbolo = simbolos[tuple(t_señal)]\n",
    "        x_k.append(simbolo)\n",
    "    x_k = np.array(x_k)\n",
    "\n",
    "    #Definimos el tren de pulsos de amplitud 1 y longitud 20\n",
    "    t = np.arange(0,len(x_k),1)\n",
    "    p = np.ones_like(t)\n",
    "    #print(t)\n",
    "    x_k = x_k*p\n",
    "    #print(x_k)\n",
    "\n",
    "    # Graficar el tren de pulsos\n",
    "    plt.stem(t, x_k, linefmt='b-', markerfmt='bo', basefmt='r-')\n",
    "\n",
    "    # Configurar etiquetas y título del gráfico\n",
    "    plt.xlabel(\"Tiempo\")\n",
    "    plt.ylabel(\"Amplitud\")\n",
    "    plt.title(\"MODULACIÓN PAM\")\n",
    "\n",
    "    # Ajustar los límites del eje y\n",
    "    plt.ylim(-1.5, 1.5)\n",
    "    plt.show()\n",
    "\n",
    "    return x_k\n",
    "        \n",
    "bcT = np.array([0, 1, 0, 0, 1, 0, 0])\n",
    "print(\"La secuencia de entrada es:\",bcT)\n",
    "x_k = modulacionPAM(bcT)\n",
    "print(\"La secuencia modulada x(k): \", x_k)\n",
    "\n"
   ]
  },
  {
   "attachments": {},
   "cell_type": "markdown",
   "metadata": {},
   "source": [
    "**MEDIO DE TRANSMISIÓN RUIDOSO**\n",
    "\n",
    "Simule un medio de transmisión ruidoso definiendo un ruido N\n",
    "y almacenándola en una variable N. Escriba un programa que cambie aleatoriamente el valor de cada muestra de una secuencia de muestras transmitidos x(k), almacenada en un arreglo xT. Las muestras modificados deben conformar la secuencia de muestras recibidos  x∗(k), del mismo tamaño de x(k), almacenada en un arreglo xR.\n"
   ]
  },
  {
   "cell_type": "code",
   "execution_count": 33,
   "metadata": {},
   "outputs": [
    {
     "name": "stdout",
     "output_type": "stream",
     "text": [
      "Secuencia con ruido:  [-0.17722419 -1.40615178  1.35048914 -0.87958961]\n"
     ]
    }
   ],
   "source": [
    "def add_noise(x, snr):\n",
    "    # Calcular la potencia de la señal transmitida\n",
    "    signal_power = np.mean(np.abs(x) ** 2)\n",
    "\n",
    "    # Calcular la potencia del ruido en función de la relación señal-ruido (SNR)\n",
    "    noise_power = signal_power / (10 ** (snr / 10))\n",
    "\n",
    "    # Generar el ruido gaussiano\n",
    "    noise = np.random.normal(0, np.sqrt(noise_power), len(x))\n",
    "\n",
    "    # Sumar el ruido a la señal transmitida\n",
    "    x_r = x + noise\n",
    "\n",
    "    return x_r\n",
    "\n",
    "x_R = add_noise(x_k, 10)\n",
    "print(\"Secuencia con ruido: \", x_R)"
   ]
  },
  {
   "attachments": {},
   "cell_type": "markdown",
   "metadata": {},
   "source": [
    "**Desmodulador digital banda-base**\n",
    "Simule un desmodulador digital banda-base que utilice un esquema de modulación PAM de orden  M , definiendo un procedimiento de muestreo o de integración y descarte y escribiendo un programa que recupere los bits de una secuencia de información, almacenada en un arreglo a partir de una secuencia de muestras.\n"
   ]
  },
  {
   "cell_type": "code",
   "execution_count": 34,
   "metadata": {},
   "outputs": [
    {
     "name": "stdout",
     "output_type": "stream",
     "text": [
      "La secuencia de bits demodulada:  [0 1 0 0 1 0 0 0]\n"
     ]
    }
   ],
   "source": [
    "def demodulacionPAM(x_k):\n",
    "    # Diccionario inverso de asignación de símbolos de amplitud\n",
    "    simbolos_inversos = {\n",
    "        -1: (0, 0),\n",
    "        -1/3: (0, 1),\n",
    "        1: (1, 0),\n",
    "        1/3: (1, 1)\n",
    "    }\n",
    "    \n",
    "    # Lista para almacenar la secuencia de bits demodulada\n",
    "    bits_demodulados = []\n",
    "    \n",
    "    # Obtener la longitud original de la secuencia de bits\n",
    "    longitud_original = len(x_k) * int(np.log2(M))\n",
    "    \n",
    "    # Iterar sobre cada símbolo de amplitud en la secuencia modulada\n",
    "    for simbolo in x_k:\n",
    "        # Buscar el símbolo de amplitud correspondiente en el diccionario inverso\n",
    "        bits = simbolos_inversos[simbolo]\n",
    "        \n",
    "        # Agregar los bits a la secuencia demodulada\n",
    "        bits_demodulados.extend(bits)\n",
    "    \n",
    "    # Verificar si se agregaron ceros durante la modulación\n",
    "    diferencia = len(bits_demodulados) - longitud_original\n",
    "    if diferencia > 0:\n",
    "        # Eliminar los ceros adicionales\n",
    "        bits_demodulados = bits_demodulados[:-diferencia]\n",
    "    \n",
    "    # Convertir la lista de bits demodulados en un array numpy\n",
    "    bits_demodulados = np.array(bits_demodulados)\n",
    "    \n",
    "    return bits_demodulados\n",
    "\n",
    "bits_demodulados = demodulacionPAM(x_k)\n",
    "print(\"La secuencia de bits demodulada: \", bits_demodulados)\n"
   ]
  },
  {
   "attachments": {},
   "cell_type": "markdown",
   "metadata": {},
   "source": [
    "**Proyecto Integrado**\n",
    "\n",
    "En la siguiente sección se procede a conectar los componentes de modulación y demodulación con las partes anteriormente realizadas(codificador de fuente, codificador de canal) con el fin de comprobar su correcto funcionamiento. Para estoy dirigase al archivo proyecto_integrado.py, este se le realizó una interfaz interactiva para que el usuario escoja que elementos quiere probar:\n",
    "\n",
    "                                                                                                    --opcion 1--: codificación canal \n",
    "                                                                                                    --opcion 2--: cofificación de fuente y canal\n",
    "                                                                                                    --opcion 3--: codificación de fuente, canal y modulacion banda base\n",
    "\n",
    "Tambien, en el código abajo note que se exporta el archivo por lo que puede utilizarlo desde aquí. Además, el código despliega toda la información necesaria para ir demostrando que se cumple satisfactoriamente el proceso de comunicación. "
   ]
  },
  {
   "cell_type": "code",
   "execution_count": 35,
   "metadata": {},
   "outputs": [
    {
     "name": "stdout",
     "output_type": "stream",
     "text": [
      "Menú de opciones:\n",
      "1. Opción 1: Codificación de canal\n",
      "2. Opción 2: Codificación de fuente y canal\n",
      "3. Opción 3: Codificación de fuente, canal y modulación\n",
      "Ha seleccionado la opción 3\n",
      "El mensaje es: Hola\n",
      "El mensaje codificado con formato de impresión binaria:  0b1001000011011110110110001100001\n",
      "El mensaje codificado es:  01001000011011110110110001100001\n"
     ]
    },
    {
     "data": {
      "image/png": "[encoded data removed]",
      "text/plain": [
       "<Figure size 432x288 with 1 Axes>"
      ]
     },
     "metadata": {
      "needs_background": "light"
     },
     "output_type": "display_data"
    },
    {
     "name": "stdout",
     "output_type": "stream",
     "text": [
      "01001111000101011000111111110110001110001001100010001011\n",
      "Antes correcion:  [0 1 0 0 1 1 1]\n",
      "sindrome: 000\n",
      "0\n",
      "Despues correcion:  [0 1 0 0 1 1 1]\n",
      "Antes correcion:  [1 0 0 0 1 0 1]\n",
      "sindrome: 000\n",
      "1\n",
      "Despues correcion:  [1 0 0 0 1 0 1]\n",
      "Antes correcion:  [0 1 1 0 0 0 1]\n",
      "sindrome: 000\n",
      "0\n",
      "Despues correcion:  [0 1 1 0 0 0 1]\n",
      "Antes correcion:  [1 1 1 1 1 1 1]\n",
      "sindrome: 000\n",
      "1\n",
      "Despues correcion:  [1 1 1 1 1 1 1]\n",
      "Antes correcion:  [0 1 1 0 0 0 1]\n",
      "sindrome: 000\n",
      "0\n",
      "Despues correcion:  [0 1 1 0 0 0 1]\n",
      "Antes correcion:  [1 1 0 0 0 1 0]\n",
      "sindrome: 000\n",
      "1\n",
      "Despues correcion:  [1 1 0 0 0 1 0]\n",
      "Antes correcion:  [0 1 1 0 0 0 1]\n",
      "sindrome: 000\n",
      "0\n",
      "Despues correcion:  [0 1 1 0 0 0 1]\n",
      "Antes correcion:  [0 0 0 1 0 1 1]\n",
      "sindrome: 000\n",
      "0\n",
      "Despues correcion:  [0 0 0 1 0 1 1]\n",
      "Secuencia enviada:  01001000011011110110110001100001\n",
      "La secuencia modulada x(k):  [-0.33333333 -1.          0.33333333  0.33333333 -1.         -0.33333333\n",
      " -0.33333333 -0.33333333  1.         -1.          0.33333333  0.33333333\n",
      "  0.33333333  0.33333333 -0.33333333  1.         -1.          0.33333333\n",
      "  1.         -1.          1.         -0.33333333  1.         -1.\n",
      "  1.         -1.          1.          0.33333333]\n",
      "Secuencia con ruido:  [-0.37068713 -0.90734973 -0.23889878  0.07750214 -0.8760009  -0.2016945\n",
      " -0.23697939 -0.49903404  1.25195638 -1.26794859  0.39622487  0.09494556\n",
      "  0.0417283   0.36271186 -0.10035421  0.80512846 -1.39963974  0.45908053\n",
      "  0.95592071 -0.72794555  0.99802763 -0.51280738  0.94895546 -1.25715329\n",
      "  0.86296458 -1.01914017  1.11222928  0.12804449]\n",
      "La secuencia demodulada es:  01001111000101011000111111110110001110001001100010001011\n",
      "Secuencia recibida:  01001000011011110110110001100001\n",
      "1215261793\n",
      "El mensaje luego del proceso de decodificación de canal y fuente es:  Hola\n"
     ]
    }
   ],
   "source": [
    "import modulación_PAM as mpam\n",
    "\n",
    "# Menú\n",
    "print(\"Menú de opciones:\")\n",
    "print(\"1. Opción 1: Codificación de canal\")\n",
    "print(\"2. Opción 2: Codificación de fuente y canal\")\n",
    "print(\"3. Opción 3: Codificación de fuente, canal y modulación\")\n",
    "\n",
    "opcion_seleccionada = int(input(\"Seleccione una opción: \"))\n",
    "mpam.menu(opcion_seleccionada)"
   ]
  }
 ],
 "metadata": {
  "kernelspec": {
   "display_name": "Python 3 (ipykernel)",
   "language": "python",
   "name": "python3"
  },
  "language_info": {
   "codemirror_mode": {
    "name": "ipython",
    "version": 3
   },
   "file_extension": ".py",
   "mimetype": "text/x-python",
   "name": "python",
   "nbconvert_exporter": "python",
   "pygments_lexer": "ipython3",
   "version": "3.9.13"
  }
 },
 "nbformat": 4,
 "nbformat_minor": 2
}
